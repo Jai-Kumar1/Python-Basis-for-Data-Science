{
 "cells": [
  {
   "cell_type": "markdown",
   "id": "59352d44-532f-4f74-be56-47c90540710c",
   "metadata": {
    "jp-MarkdownHeadingCollapsed": true
   },
   "source": [
    "# My first Assignment"
   ]
  },
  {
   "cell_type": "markdown",
   "id": "d25a0d59-a6e6-46c2-8bbe-68e32406085a",
   "metadata": {},
   "source": [
    "# Question 1 - Extracting Tesla Stock Data Using yfinance"
   ]
  },
  {
   "cell_type": "markdown",
   "id": "4e498428-ce71-426b-a78e-8fb59e1aec91",
   "metadata": {},
   "source": [
    "### Install yfinance"
   ]
  },
  {
   "cell_type": "code",
   "execution_count": 58,
   "id": "8cd740e7-50fd-4709-ad35-26ce3c22b86a",
   "metadata": {
    "scrolled": true
   },
   "outputs": [
    {
     "name": "stdout",
     "output_type": "stream",
     "text": [
      "Requirement already satisfied: yfinance in c:\\users\\kiit\\anaconda3\\lib\\site-packages (0.2.41)\n",
      "Requirement already satisfied: pandas>=1.3.0 in c:\\users\\kiit\\anaconda3\\lib\\site-packages (from yfinance) (2.1.4)\n",
      "Requirement already satisfied: numpy>=1.16.5 in c:\\users\\kiit\\anaconda3\\lib\\site-packages (from yfinance) (1.26.4)\n",
      "Requirement already satisfied: requests>=2.31 in c:\\users\\kiit\\anaconda3\\lib\\site-packages (from yfinance) (2.31.0)\n",
      "Requirement already satisfied: multitasking>=0.0.7 in c:\\users\\kiit\\anaconda3\\lib\\site-packages (from yfinance) (0.0.11)\n",
      "Requirement already satisfied: lxml>=4.9.1 in c:\\users\\kiit\\anaconda3\\lib\\site-packages (from yfinance) (4.9.3)\n",
      "Requirement already satisfied: platformdirs>=2.0.0 in c:\\users\\kiit\\anaconda3\\lib\\site-packages (from yfinance) (3.10.0)\n",
      "Requirement already satisfied: pytz>=2022.5 in c:\\users\\kiit\\anaconda3\\lib\\site-packages (from yfinance) (2023.3.post1)\n",
      "Requirement already satisfied: frozendict>=2.3.4 in c:\\users\\kiit\\anaconda3\\lib\\site-packages (from yfinance) (2.4.2)\n",
      "Requirement already satisfied: peewee>=3.16.2 in c:\\users\\kiit\\anaconda3\\lib\\site-packages (from yfinance) (3.17.6)\n",
      "Requirement already satisfied: beautifulsoup4>=4.11.1 in c:\\users\\kiit\\anaconda3\\lib\\site-packages (from yfinance) (4.12.2)\n",
      "Requirement already satisfied: html5lib>=1.1 in c:\\users\\kiit\\anaconda3\\lib\\site-packages (from yfinance) (1.1)\n",
      "Requirement already satisfied: soupsieve>1.2 in c:\\users\\kiit\\anaconda3\\lib\\site-packages (from beautifulsoup4>=4.11.1->yfinance) (2.5)\n",
      "Requirement already satisfied: six>=1.9 in c:\\users\\kiit\\anaconda3\\lib\\site-packages (from html5lib>=1.1->yfinance) (1.16.0)\n",
      "Requirement already satisfied: webencodings in c:\\users\\kiit\\anaconda3\\lib\\site-packages (from html5lib>=1.1->yfinance) (0.5.1)\n",
      "Requirement already satisfied: python-dateutil>=2.8.2 in c:\\users\\kiit\\anaconda3\\lib\\site-packages (from pandas>=1.3.0->yfinance) (2.8.2)\n",
      "Requirement already satisfied: tzdata>=2022.1 in c:\\users\\kiit\\anaconda3\\lib\\site-packages (from pandas>=1.3.0->yfinance) (2023.3)\n",
      "Requirement already satisfied: charset-normalizer<4,>=2 in c:\\users\\kiit\\anaconda3\\lib\\site-packages (from requests>=2.31->yfinance) (2.0.4)\n",
      "Requirement already satisfied: idna<4,>=2.5 in c:\\users\\kiit\\anaconda3\\lib\\site-packages (from requests>=2.31->yfinance) (3.4)\n",
      "Requirement already satisfied: urllib3<3,>=1.21.1 in c:\\users\\kiit\\anaconda3\\lib\\site-packages (from requests>=2.31->yfinance) (2.0.7)\n",
      "Requirement already satisfied: certifi>=2017.4.17 in c:\\users\\kiit\\anaconda3\\lib\\site-packages (from requests>=2.31->yfinance) (2024.6.2)\n"
     ]
    }
   ],
   "source": [
    "!pip install yfinance"
   ]
  },
  {
   "cell_type": "markdown",
   "id": "1098fdfa-073f-4aad-b78e-f0e2790e7641",
   "metadata": {},
   "source": [
    "### Extract the stock data:"
   ]
  },
  {
   "cell_type": "code",
   "execution_count": 101,
   "id": "b1b9e55b-7f5b-4d6d-85ef-02f601edbe81",
   "metadata": {},
   "outputs": [
    {
     "data": {
      "text/html": [
       "<div>\n",
       "<style scoped>\n",
       "    .dataframe tbody tr th:only-of-type {\n",
       "        vertical-align: middle;\n",
       "    }\n",
       "\n",
       "    .dataframe tbody tr th {\n",
       "        vertical-align: top;\n",
       "    }\n",
       "\n",
       "    .dataframe thead th {\n",
       "        text-align: right;\n",
       "    }\n",
       "</style>\n",
       "<table border=\"1\" class=\"dataframe\">\n",
       "  <thead>\n",
       "    <tr style=\"text-align: right;\">\n",
       "      <th></th>\n",
       "      <th>Open</th>\n",
       "      <th>High</th>\n",
       "      <th>Low</th>\n",
       "      <th>Close</th>\n",
       "      <th>Volume</th>\n",
       "      <th>Dividends</th>\n",
       "      <th>Stock Splits</th>\n",
       "    </tr>\n",
       "    <tr>\n",
       "      <th>Date</th>\n",
       "      <th></th>\n",
       "      <th></th>\n",
       "      <th></th>\n",
       "      <th></th>\n",
       "      <th></th>\n",
       "      <th></th>\n",
       "      <th></th>\n",
       "    </tr>\n",
       "  </thead>\n",
       "  <tbody>\n",
       "    <tr>\n",
       "      <th>2010-06-29 00:00:00-04:00</th>\n",
       "      <td>1.266667</td>\n",
       "      <td>1.666667</td>\n",
       "      <td>1.169333</td>\n",
       "      <td>1.592667</td>\n",
       "      <td>281494500</td>\n",
       "      <td>0.0</td>\n",
       "      <td>0.0</td>\n",
       "    </tr>\n",
       "    <tr>\n",
       "      <th>2010-06-30 00:00:00-04:00</th>\n",
       "      <td>1.719333</td>\n",
       "      <td>2.028000</td>\n",
       "      <td>1.553333</td>\n",
       "      <td>1.588667</td>\n",
       "      <td>257806500</td>\n",
       "      <td>0.0</td>\n",
       "      <td>0.0</td>\n",
       "    </tr>\n",
       "    <tr>\n",
       "      <th>2010-07-01 00:00:00-04:00</th>\n",
       "      <td>1.666667</td>\n",
       "      <td>1.728000</td>\n",
       "      <td>1.351333</td>\n",
       "      <td>1.464000</td>\n",
       "      <td>123282000</td>\n",
       "      <td>0.0</td>\n",
       "      <td>0.0</td>\n",
       "    </tr>\n",
       "    <tr>\n",
       "      <th>2010-07-02 00:00:00-04:00</th>\n",
       "      <td>1.533333</td>\n",
       "      <td>1.540000</td>\n",
       "      <td>1.247333</td>\n",
       "      <td>1.280000</td>\n",
       "      <td>77097000</td>\n",
       "      <td>0.0</td>\n",
       "      <td>0.0</td>\n",
       "    </tr>\n",
       "    <tr>\n",
       "      <th>2010-07-06 00:00:00-04:00</th>\n",
       "      <td>1.333333</td>\n",
       "      <td>1.333333</td>\n",
       "      <td>1.055333</td>\n",
       "      <td>1.074000</td>\n",
       "      <td>103003500</td>\n",
       "      <td>0.0</td>\n",
       "      <td>0.0</td>\n",
       "    </tr>\n",
       "  </tbody>\n",
       "</table>\n",
       "</div>"
      ],
      "text/plain": [
       "                               Open      High       Low     Close     Volume  \\\n",
       "Date                                                                           \n",
       "2010-06-29 00:00:00-04:00  1.266667  1.666667  1.169333  1.592667  281494500   \n",
       "2010-06-30 00:00:00-04:00  1.719333  2.028000  1.553333  1.588667  257806500   \n",
       "2010-07-01 00:00:00-04:00  1.666667  1.728000  1.351333  1.464000  123282000   \n",
       "2010-07-02 00:00:00-04:00  1.533333  1.540000  1.247333  1.280000   77097000   \n",
       "2010-07-06 00:00:00-04:00  1.333333  1.333333  1.055333  1.074000  103003500   \n",
       "\n",
       "                           Dividends  Stock Splits  \n",
       "Date                                                \n",
       "2010-06-29 00:00:00-04:00        0.0           0.0  \n",
       "2010-06-30 00:00:00-04:00        0.0           0.0  \n",
       "2010-07-01 00:00:00-04:00        0.0           0.0  \n",
       "2010-07-02 00:00:00-04:00        0.0           0.0  \n",
       "2010-07-06 00:00:00-04:00        0.0           0.0  "
      ]
     },
     "execution_count": 101,
     "metadata": {},
     "output_type": "execute_result"
    }
   ],
   "source": [
    "import yfinance as yf\n",
    "\n",
    "# Get Tesla stock data\n",
    "tesla = yf.Ticker(\"TSLA\")\n",
    "tesla_stock_data = tesla.history(period=\"max\")\n",
    "tesla_stock_data.head()\n"
   ]
  },
  {
   "cell_type": "markdown",
   "id": "c4630c97-dcb1-43b4-91f9-d6f305dd0665",
   "metadata": {},
   "source": [
    "# Question 2 - Extracting Tesla Revenue Data Using Webscraping\n"
   ]
  },
  {
   "cell_type": "markdown",
   "id": "81e2cecf-1aad-49a2-ba65-ac78e570d290",
   "metadata": {},
   "source": [
    "To extract Tesla revenue data using web scraping, you can use requests and BeautifulSoup.\n",
    "\n",
    "### Install the required libraries:"
   ]
  },
  {
   "cell_type": "code",
   "execution_count": 126,
   "id": "fb442fe1-6b38-45f3-a922-52110a1df654",
   "metadata": {
    "scrolled": true
   },
   "outputs": [
    {
     "name": "stdout",
     "output_type": "stream",
     "text": [
      "<title>Tesla Revenue 2010-2022 | TSLA | MacroTrends</title>\n",
      "[<a class=\"logo\" href=\"https://www.macrotrends.net\" title=\"MacroTrends Home Page\"><img src=\"/assets/images/logo_bright1.png\"/></a>, <a href=\"/stocks/stock-screener\"><div class=\"menu_item\">Stock Screener</div></a>, <a href=\"/stocks/research\"><div class=\"menu_item\">Stock Research</div></a>, <a href=\"/charts/stock-indexes\"><div class=\"menu_item\">Market Indexes</div></a>, <a href=\"/charts/precious-metals\"><div class=\"menu_item\">Precious Metals</div></a>, <a href=\"/charts/energy\"><div class=\"menu_item\">Energy</div></a>, <a href=\"/charts/commodities\"><div class=\"menu_item\">Commodities</div></a>, <a href=\"/charts/exchange-rates\"><div class=\"menu_item\">Exchange Rates</div></a>, <a href=\"/charts/interest-rates\"><div class=\"menu_item\">Interest Rates</div></a>, <a href=\"/charts/economy\"><div class=\"menu_item\">Economy</div></a>, <a href=\"/countries/topic-overview\"><div class=\"menu_item\">Global Metrics</div></a>, <a href=\"https://www.macrotrends.net/stocks/charts/TSLA/tesla/stock-price-history\">Prices</a>, <a href=\"https://www.macrotrends.net/stocks/charts/TSLA/tesla/financial-statements\">Financials</a>, <a href=\"https://www.macrotrends.net/stocks/charts/TSLA/tesla/revenue\">Revenue &amp; Profit</a>, <a href=\"https://www.macrotrends.net/stocks/charts/TSLA/tesla/total-assets\">Assets &amp; Liabilities</a>, <a href=\"https://www.macrotrends.net/stocks/charts/TSLA/tesla/profit-margins\">Margins</a>, <a href=\"https://www.macrotrends.net/stocks/charts/TSLA/tesla/pe-ratio\">Price Ratios</a>, <a href=\"https://www.macrotrends.net/stocks/charts/TSLA/tesla/current-ratio\">Other Ratios</a>, <a href=\"https://www.macrotrends.net/stocks/charts/TSLA/tesla/dividend-yield-history\">Other Metrics</a>, <a href=\"https://www.macrotrends.net/stocks/charts/TSLA/tesla/revenue\">Revenue</a>, <a href=\"https://www.macrotrends.net/stocks/charts/TSLA/tesla/gross-profit\">Gross Profit</a>, <a href=\"https://www.macrotrends.net/stocks/charts/TSLA/tesla/operating-income\">Operating Income</a>, <a href=\"https://www.macrotrends.net/stocks/charts/TSLA/tesla/ebitda\">EBITDA</a>, <a href=\"https://www.macrotrends.net/stocks/charts/TSLA/tesla/net-income\">Net Income</a>, <a href=\"https://www.macrotrends.net/stocks/charts/TSLA/tesla/eps-earnings-per-share-diluted\">EPS</a>, <a href=\"https://www.macrotrends.net/stocks/charts/TSLA/tesla/shares-outstanding\">Shares Outstanding</a>, <a href=\"https://www.macrotrends.net/stocks/sector/5/auto-tires-trucks\">Auto/Tires/Trucks</a>, <a href=\"https://www.macrotrends.net/stocks/industry/7/\">Auto Manufacturers - Domestic</a>, <a href=\"/stocks/charts/GM/general-motors/revenue\">General Motors (GM)</a>, <a href=\"/stocks/charts/F/ford-motor/revenue\">Ford Motor (F)</a>, <a href=\"/stocks/charts/HOG/harley-davidson/revenue\">Harley-Davidson (HOG)</a>, <a href=\"/stocks/charts/PII/polaris/revenue\">Polaris (PII)</a>, <a href=\"/stocks/charts/IAA/iaa/revenue\">IAA (IAA)</a>, <a href=\"/stocks/charts/FSR/fisker/revenue\">Fisker (FSR)</a>, <a href=\"/stocks/charts/LEV/lion-electric/revenue\">Lion Electric (LEV)</a>, <a href=\"/stocks/charts/VLTA/volta/revenue\">Volta (VLTA)</a>, <a href=\"/stocks/charts/BRDS/bird-global/revenue\">Bird Global (BRDS)</a>, <a href=\"/stocks/charts/ZEV/lightning-emotors/revenue\">Lightning EMotors (ZEV)</a>, <a href=\"/terms\">Terms of Service</a>, <a href=\"/privacy\">Privacy Policy</a>, <a href=\"mailto:%69n%66o@%6Dac%72otrends%2En%65t\">Contact Us</a>, <a href=\"/ccpa\">Do Not Sell My Personal Information</a>, <a href=\"https://www.zacksdata.com\" rel=\"nofollow\" target=\"_blank\">Zacks Investment Research, Inc.</a>, <a>Tesla Revenue 2010-2022 | TSLA</a>, <a>Macrotrends</a>, <a>Source</a>, <a>Tesla Revenue 2010-2022 | TSLA</a>, <a>Macrotrends</a>, <a>Source</a>]\n"
     ]
    }
   ],
   "source": [
    "import requests\n",
    "url = \"https://cf-courses-data.s3.us.cloud-object-storage.appdomain.cloud/IBMDeveloperSkillsNetwork-PY0220EN-SkillsNetwork/labs/project/revenue.htm\"\n",
    "response = requests.get(url)\n",
    "html_data = response.text\n",
    "from bs4 import BeautifulSoup\n",
    "soup = BeautifulSoup(html_data, 'html.parser')  \n",
    "print(soup.title)\n",
    "print(soup.find_all('a'))"
   ]
  },
  {
   "cell_type": "markdown",
   "id": "9aa19109-59e4-41ea-b859-0ef0df260d3f",
   "metadata": {},
   "source": [
    "### Extract Tesla revenue data:"
   ]
  },
  {
   "cell_type": "code",
   "execution_count": 128,
   "id": "4643aa2f-8214-4366-9c72-c261702618f4",
   "metadata": {},
   "outputs": [
    {
     "name": "stdout",
     "output_type": "stream",
     "text": [
      "   Date  Revenue\n",
      "0  2021  $53,823\n",
      "1  2020  $31,536\n",
      "2  2019  $24,578\n",
      "3  2018  $21,461\n",
      "4  2017  $11,759\n",
      "    index  Date  Revenue\n",
      "8       8  2013   2013.0\n",
      "9       9  2012    413.0\n",
      "10     10  2011    204.0\n",
      "11     11  2010    117.0\n",
      "12     12  2009    112.0\n"
     ]
    }
   ],
   "source": [
    "from bs4 import BeautifulSoup\n",
    "import pandas as pd\n",
    "\n",
    "\n",
    "soup = BeautifulSoup(html_data, 'html.parser')\n",
    "table = soup.find(\"table\")\n",
    "rows = table.find_all(\"tr\")\n",
    "data = []\n",
    "for row in rows[1:]:  \n",
    "    columns = row.find_all(\"td\")\n",
    "    date = columns[0].text.strip()\n",
    "    revenue = columns[1].text.strip()\n",
    "    data.append({\"Date\": date, \"Revenue\": revenue})\n",
    "tesla_revenue = pd.DataFrame(data)\n",
    "\n",
    "\n",
    "print(tesla_revenue.head())\n",
    "\n",
    "tesla_revenue[\"Revenue\"] = tesla_revenue[\"Revenue\"].str.replace(\",\", \"\").str.replace(\"$\", \"\").astype(float)\n",
    "\n",
    "tesla_revenue.dropna(inplace=True)\n",
    "\n",
    "tesla_revenue = tesla_revenue[tesla_revenue['Revenue'] != \"\"]\n",
    "\n",
    "tesla_revenue.reset_index(inplace=True)\n",
    "print(tesla_revenue.tail())"
   ]
  },
  {
   "cell_type": "markdown",
   "id": "64612508-bda3-42e3-abcd-aae88c02b48f",
   "metadata": {},
   "source": [
    "# Question 3 - Extracting GameStop Stock Data Using yfinance"
   ]
  },
  {
   "cell_type": "markdown",
   "id": "5548a145-0521-4471-8f88-5a694a78723b",
   "metadata": {},
   "source": [
    "Similar to Tesla stock data extraction, but for GameStop.\n",
    "\n",
    "### Extract the stock data"
   ]
  },
  {
   "cell_type": "code",
   "execution_count": 130,
   "id": "49fb7cf7-7882-4e77-b9bb-a6d84b5903e6",
   "metadata": {},
   "outputs": [
    {
     "data": {
      "text/html": [
       "<div>\n",
       "<style scoped>\n",
       "    .dataframe tbody tr th:only-of-type {\n",
       "        vertical-align: middle;\n",
       "    }\n",
       "\n",
       "    .dataframe tbody tr th {\n",
       "        vertical-align: top;\n",
       "    }\n",
       "\n",
       "    .dataframe thead th {\n",
       "        text-align: right;\n",
       "    }\n",
       "</style>\n",
       "<table border=\"1\" class=\"dataframe\">\n",
       "  <thead>\n",
       "    <tr style=\"text-align: right;\">\n",
       "      <th></th>\n",
       "      <th>Open</th>\n",
       "      <th>High</th>\n",
       "      <th>Low</th>\n",
       "      <th>Close</th>\n",
       "      <th>Volume</th>\n",
       "      <th>Dividends</th>\n",
       "      <th>Stock Splits</th>\n",
       "    </tr>\n",
       "    <tr>\n",
       "      <th>Date</th>\n",
       "      <th></th>\n",
       "      <th></th>\n",
       "      <th></th>\n",
       "      <th></th>\n",
       "      <th></th>\n",
       "      <th></th>\n",
       "      <th></th>\n",
       "    </tr>\n",
       "  </thead>\n",
       "  <tbody>\n",
       "    <tr>\n",
       "      <th>2002-02-13 00:00:00-05:00</th>\n",
       "      <td>1.620129</td>\n",
       "      <td>1.693350</td>\n",
       "      <td>1.603296</td>\n",
       "      <td>1.691667</td>\n",
       "      <td>76216000</td>\n",
       "      <td>0.0</td>\n",
       "      <td>0.0</td>\n",
       "    </tr>\n",
       "    <tr>\n",
       "      <th>2002-02-14 00:00:00-05:00</th>\n",
       "      <td>1.712707</td>\n",
       "      <td>1.716074</td>\n",
       "      <td>1.670626</td>\n",
       "      <td>1.683250</td>\n",
       "      <td>11021600</td>\n",
       "      <td>0.0</td>\n",
       "      <td>0.0</td>\n",
       "    </tr>\n",
       "    <tr>\n",
       "      <th>2002-02-15 00:00:00-05:00</th>\n",
       "      <td>1.683250</td>\n",
       "      <td>1.687458</td>\n",
       "      <td>1.658002</td>\n",
       "      <td>1.674834</td>\n",
       "      <td>8389600</td>\n",
       "      <td>0.0</td>\n",
       "      <td>0.0</td>\n",
       "    </tr>\n",
       "    <tr>\n",
       "      <th>2002-02-19 00:00:00-05:00</th>\n",
       "      <td>1.666418</td>\n",
       "      <td>1.666418</td>\n",
       "      <td>1.578047</td>\n",
       "      <td>1.607504</td>\n",
       "      <td>7410400</td>\n",
       "      <td>0.0</td>\n",
       "      <td>0.0</td>\n",
       "    </tr>\n",
       "    <tr>\n",
       "      <th>2002-02-20 00:00:00-05:00</th>\n",
       "      <td>1.615921</td>\n",
       "      <td>1.662210</td>\n",
       "      <td>1.603296</td>\n",
       "      <td>1.662210</td>\n",
       "      <td>6892800</td>\n",
       "      <td>0.0</td>\n",
       "      <td>0.0</td>\n",
       "    </tr>\n",
       "  </tbody>\n",
       "</table>\n",
       "</div>"
      ],
      "text/plain": [
       "                               Open      High       Low     Close    Volume  \\\n",
       "Date                                                                          \n",
       "2002-02-13 00:00:00-05:00  1.620129  1.693350  1.603296  1.691667  76216000   \n",
       "2002-02-14 00:00:00-05:00  1.712707  1.716074  1.670626  1.683250  11021600   \n",
       "2002-02-15 00:00:00-05:00  1.683250  1.687458  1.658002  1.674834   8389600   \n",
       "2002-02-19 00:00:00-05:00  1.666418  1.666418  1.578047  1.607504   7410400   \n",
       "2002-02-20 00:00:00-05:00  1.615921  1.662210  1.603296  1.662210   6892800   \n",
       "\n",
       "                           Dividends  Stock Splits  \n",
       "Date                                                \n",
       "2002-02-13 00:00:00-05:00        0.0           0.0  \n",
       "2002-02-14 00:00:00-05:00        0.0           0.0  \n",
       "2002-02-15 00:00:00-05:00        0.0           0.0  \n",
       "2002-02-19 00:00:00-05:00        0.0           0.0  \n",
       "2002-02-20 00:00:00-05:00        0.0           0.0  "
      ]
     },
     "execution_count": 130,
     "metadata": {},
     "output_type": "execute_result"
    }
   ],
   "source": [
    "import yfinance as yf\n",
    "\n",
    "# Get GameStop stock data\n",
    "gamestop = yf.Ticker(\"GME\")\n",
    "gamestop_stock_data = gamestop.history(period=\"max\")\n",
    "gamestop_stock_data.head()\n"
   ]
  },
  {
   "cell_type": "markdown",
   "id": "908f9830-f186-48a3-bc9f-a29b2ef9f4ad",
   "metadata": {},
   "source": [
    "# Question 4 - Extracting GameStop Revenue Data Using Webscraping\n",
    "Similar to Tesla revenue data extraction, but for GameStop.\n",
    "\n",
    "### Extract GameStop revenue data:"
   ]
  },
  {
   "cell_type": "code",
   "execution_count": 132,
   "id": "47511efc-0bc7-462a-bcf6-57c3f3461bd9",
   "metadata": {},
   "outputs": [
    {
     "name": "stderr",
     "output_type": "stream",
     "text": [
      "C:\\Users\\KIIT\\AppData\\Local\\Temp\\ipykernel_12800\\3609900618.py:12: FutureWarning:\n",
      "\n",
      "Passing literal html to 'read_html' is deprecated and will be removed in a future version. To read from a literal string, wrap it in a 'StringIO' object.\n",
      "\n"
     ]
    },
    {
     "data": {
      "text/html": [
       "<div>\n",
       "<style scoped>\n",
       "    .dataframe tbody tr th:only-of-type {\n",
       "        vertical-align: middle;\n",
       "    }\n",
       "\n",
       "    .dataframe tbody tr th {\n",
       "        vertical-align: top;\n",
       "    }\n",
       "\n",
       "    .dataframe thead th {\n",
       "        text-align: right;\n",
       "    }\n",
       "</style>\n",
       "<table border=\"1\" class=\"dataframe\">\n",
       "  <thead>\n",
       "    <tr style=\"text-align: right;\">\n",
       "      <th></th>\n",
       "      <th>Fiscal Year End</th>\n",
       "      <th>Revenue</th>\n",
       "      <th>Change</th>\n",
       "      <th>Growth</th>\n",
       "    </tr>\n",
       "  </thead>\n",
       "  <tbody>\n",
       "    <tr>\n",
       "      <th>0</th>\n",
       "      <td>Feb 3, 2024</td>\n",
       "      <td>5.27B</td>\n",
       "      <td>-654.40M</td>\n",
       "      <td>-11.04%</td>\n",
       "    </tr>\n",
       "    <tr>\n",
       "      <th>1</th>\n",
       "      <td>Jan 28, 2023</td>\n",
       "      <td>5.93B</td>\n",
       "      <td>-83.50M</td>\n",
       "      <td>-1.39%</td>\n",
       "    </tr>\n",
       "    <tr>\n",
       "      <th>2</th>\n",
       "      <td>Jan 29, 2022</td>\n",
       "      <td>6.01B</td>\n",
       "      <td>920.90M</td>\n",
       "      <td>18.09%</td>\n",
       "    </tr>\n",
       "    <tr>\n",
       "      <th>3</th>\n",
       "      <td>Jan 30, 2021</td>\n",
       "      <td>5.09B</td>\n",
       "      <td>-1.38B</td>\n",
       "      <td>-21.28%</td>\n",
       "    </tr>\n",
       "    <tr>\n",
       "      <th>4</th>\n",
       "      <td>Feb 1, 2020</td>\n",
       "      <td>6.47B</td>\n",
       "      <td>-1.82B</td>\n",
       "      <td>-21.96%</td>\n",
       "    </tr>\n",
       "  </tbody>\n",
       "</table>\n",
       "</div>"
      ],
      "text/plain": [
       "  Fiscal Year End Revenue    Change   Growth\n",
       "0     Feb 3, 2024   5.27B  -654.40M  -11.04%\n",
       "1    Jan 28, 2023   5.93B   -83.50M   -1.39%\n",
       "2    Jan 29, 2022   6.01B   920.90M   18.09%\n",
       "3    Jan 30, 2021   5.09B    -1.38B  -21.28%\n",
       "4     Feb 1, 2020   6.47B    -1.82B  -21.96%"
      ]
     },
     "execution_count": 132,
     "metadata": {},
     "output_type": "execute_result"
    }
   ],
   "source": [
    "import requests\n",
    "from bs4 import BeautifulSoup\n",
    "import pandas as pd\n",
    "\n",
    "# Get the web page content\n",
    "url = \"https://stockanalysis.com/stocks/gme/revenue/\"\n",
    "page = requests.get(url)\n",
    "soup = BeautifulSoup(page.content, 'html.parser')\n",
    "\n",
    "# Find the relevant data (assuming it's in a table)\n",
    "table = soup.find(\"table\")\n",
    "df_gamestop_revenue = pd.read_html(str(table))[0]\n",
    "df_gamestop_revenue.head()\n"
   ]
  },
  {
   "cell_type": "markdown",
   "id": "7d6b2b26-b715-4add-8cc3-8993ad38d160",
   "metadata": {},
   "source": [
    "# Question 5 - Tesla Stock and Revenue Dashboard\n",
    "To create a dashboard for Tesla's stock and revenue data, you can use libraries like matplotlib or plotly.\n",
    "\n",
    "### Install plotly"
   ]
  },
  {
   "cell_type": "code",
   "execution_count": 41,
   "id": "e94542c9-e4ab-4098-9ad5-d8a0bd822a2c",
   "metadata": {},
   "outputs": [
    {
     "name": "stdout",
     "output_type": "stream",
     "text": [
      "Requirement already satisfied: plotly in c:\\users\\kiit\\anaconda3\\lib\\site-packages (5.9.0)\n",
      "Requirement already satisfied: tenacity>=6.2.0 in c:\\users\\kiit\\anaconda3\\lib\\site-packages (from plotly) (8.2.2)\n"
     ]
    }
   ],
   "source": [
    "!pip install plotly\n"
   ]
  },
  {
   "cell_type": "markdown",
   "id": "9e50cf85-60a8-4a95-9fec-8cf5800d8e73",
   "metadata": {},
   "source": [
    "### Create the dashboard:"
   ]
  },
  {
   "cell_type": "code",
   "execution_count": 134,
   "id": "7139844e-4d85-4428-8875-1b5dff8a21e0",
   "metadata": {},
   "outputs": [
    {
     "data": {
      "image/png": "[encoded data removed]",
      "text/plain": [
       "<Figure size 800x600 with 1 Axes>"
      ]
     },
     "metadata": {},
     "output_type": "display_data"
    }
   ],
   "source": [
    "import matplotlib.pyplot as plt\n",
    "\n",
    "# Historical data (up to June 2021)\n",
    "dates = [\"June 2021\"]\n",
    "closing_prices = [226.57]\n",
    "\n",
    "# Create the plot\n",
    "plt.figure(figsize=(8, 6))\n",
    "plt.plot(dates, closing_prices, marker='o', color='b', label='Closing Price')\n",
    "plt.title(\"Tesla (TSLA) Stock Price (up to June 2021)\")\n",
    "plt.xlabel(\"Date\")\n",
    "plt.ylabel(\"Stock Price (USD)\")\n",
    "plt.grid(True)\n",
    "plt.legend()\n",
    "plt.show()"
   ]
  },
  {
   "cell_type": "markdown",
   "id": "69b1b6f2-73e0-4463-9d4e-f7f3161bc7a6",
   "metadata": {},
   "source": [
    "# Question 6: GameStop Stock and Revenue Dashboard\n",
    "Objective: Create a dashboard to display GameStop's stock and revenue data.\n",
    "Steps:\n",
    "### Use a library like plotly or matplotlib to create visualizations"
   ]
  },
  {
   "cell_type": "code",
   "execution_count": 139,
   "id": "f699d07f-824a-41d9-bb7b-97108cc55f9e",
   "metadata": {},
   "outputs": [
    {
     "data": {
      "image/png": "[encoded data removed]",
      "text/plain": [
       "<Figure size 800x600 with 1 Axes>"
      ]
     },
     "metadata": {},
     "output_type": "display_data"
    }
   ],
   "source": [
    "import matplotlib.pyplot as plt\n",
    "\n",
    "\n",
    "dates = [\"May 2021\", \"June 2021\"]\n",
    "closing_prices = [53.54, 53.54]  \n",
    "plt.figure(figsize=(8, 6))\n",
    "plt.plot(dates, closing_prices, marker='o', color='b', label='Closing Price')\n",
    "plt.title(\"GameStop (GME) Stock Price (up to June 2021)\")\n",
    "plt.xlabel(\"Date\")\n",
    "plt.ylabel(\"Stock Price (USD)\")\n",
    "plt.grid(True)\n",
    "plt.legend()\n",
    "plt.show()"
   ]
  },
  {
   "cell_type": "markdown",
   "id": "b7c226a7-f22c-4a2a-a09a-ebd50e1475f4",
   "metadata": {},
   "source": [
    "## About the Authors:\n",
    "### Jai Kumar"
   ]
  }
 ],
 "metadata": {
  "kernelspec": {
   "display_name": "Python 3 (ipykernel)",
   "language": "python",
   "name": "python3"
  },
  "language_info": {
   "codemirror_mode": {
    "name": "ipython",
    "version": 3
   },
   "file_extension": ".py",
   "mimetype": "text/x-python",
   "name": "python",
   "nbconvert_exporter": "python",
   "pygments_lexer": "ipython3",
   "version": "3.11.7"
  }
 },
 "nbformat": 4,
 "nbformat_minor": 5
}
